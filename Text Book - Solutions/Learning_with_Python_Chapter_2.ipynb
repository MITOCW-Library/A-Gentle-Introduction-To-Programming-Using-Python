{
  "nbformat": 4,
  "nbformat_minor": 0,
  "metadata": {
    "colab": {
      "provenance": []
    },
    "kernelspec": {
      "name": "python3",
      "display_name": "Python 3"
    },
    "language_info": {
      "name": "python"
    }
  },
  "cells": [
    {
      "cell_type": "markdown",
      "source": [
        "## **Chapter 2**"
      ],
      "metadata": {
        "id": "Ot2-tug4AVA4"
      }
    },
    {
      "cell_type": "markdown",
      "source": [
        "# **Variables, Expressions and Statements**"
      ],
      "metadata": {
        "id": "NDEiGGLYAaL5"
      }
    },
    {
      "cell_type": "markdown",
      "source": [
        "# Value\n",
        "A letter or a number that a program manipulates\n",
        "\n",
        "Types of values\n",
        "1. Integer\n",
        "2. String"
      ],
      "metadata": {
        "id": "Qs6DIioiA4MP"
      }
    },
    {
      "cell_type": "code",
      "source": [
        "print(4)"
      ],
      "metadata": {
        "colab": {
          "base_uri": "https://localhost:8080/"
        },
        "id": "HKkhzS3tAn_o",
        "outputId": "d384db61-9f3a-4a41-b5eb-542f1f20047a"
      },
      "execution_count": 2,
      "outputs": [
        {
          "output_type": "stream",
          "name": "stdout",
          "text": [
            "4\n"
          ]
        }
      ]
    },
    {
      "cell_type": "markdown",
      "source": [
        "If not sure what type a value has, the interpreter can tell you"
      ],
      "metadata": {
        "id": "xTWzzjEwBaw5"
      }
    },
    {
      "cell_type": "code",
      "source": [
        "type('Hello, World!')"
      ],
      "metadata": {
        "colab": {
          "base_uri": "https://localhost:8080/"
        },
        "id": "bT12FkEABYpI",
        "outputId": "d767f908-8b33-42c1-aa92-c06d15c416a6"
      },
      "execution_count": 3,
      "outputs": [
        {
          "output_type": "execute_result",
          "data": {
            "text/plain": [
              "str"
            ]
          },
          "metadata": {},
          "execution_count": 3
        }
      ]
    },
    {
      "cell_type": "code",
      "source": [
        "type(17)"
      ],
      "metadata": {
        "colab": {
          "base_uri": "https://localhost:8080/"
        },
        "id": "XaBmxPYlBm0X",
        "outputId": "721c4dc6-6de2-440b-aab6-5ef5ca29dfda"
      },
      "execution_count": 4,
      "outputs": [
        {
          "output_type": "execute_result",
          "data": {
            "text/plain": [
              "int"
            ]
          },
          "metadata": {},
          "execution_count": 4
        }
      ]
    },
    {
      "cell_type": "code",
      "source": [
        "type(12.5)"
      ],
      "metadata": {
        "colab": {
          "base_uri": "https://localhost:8080/"
        },
        "id": "cPth11YeBsiI",
        "outputId": "beebb6a7-ffa6-4a8e-9426-eb75aaf2590f"
      },
      "execution_count": 5,
      "outputs": [
        {
          "output_type": "execute_result",
          "data": {
            "text/plain": [
              "float"
            ]
          },
          "metadata": {},
          "execution_count": 5
        }
      ]
    },
    {
      "cell_type": "markdown",
      "source": [
        "If values of '17' and '12.5' are in quotation marks then they represent strings"
      ],
      "metadata": {
        "id": "v-UwW_TwBzXg"
      }
    },
    {
      "cell_type": "code",
      "source": [
        "type('17')"
      ],
      "metadata": {
        "colab": {
          "base_uri": "https://localhost:8080/"
        },
        "id": "pY366Y1jCIti",
        "outputId": "b0cccce2-d516-4304-aa7c-dae207921378"
      },
      "execution_count": 6,
      "outputs": [
        {
          "output_type": "execute_result",
          "data": {
            "text/plain": [
              "str"
            ]
          },
          "metadata": {},
          "execution_count": 6
        }
      ]
    },
    {
      "cell_type": "code",
      "source": [
        "type('12.5')"
      ],
      "metadata": {
        "colab": {
          "base_uri": "https://localhost:8080/"
        },
        "id": "eeEmoDn2CKhX",
        "outputId": "3b21e95f-fcc3-449a-90c1-804000d20018"
      },
      "execution_count": 7,
      "outputs": [
        {
          "output_type": "execute_result",
          "data": {
            "text/plain": [
              "str"
            ]
          },
          "metadata": {},
          "execution_count": 7
        }
      ]
    },
    {
      "cell_type": "markdown",
      "source": [
        "Using commas between groups of three digits is illegal in Python, but is a legal expression"
      ],
      "metadata": {
        "id": "iHiydZ_xCR0v"
      }
    },
    {
      "cell_type": "code",
      "source": [
        "print(1,000,000)"
      ],
      "metadata": {
        "colab": {
          "base_uri": "https://localhost:8080/"
        },
        "id": "3tBz8n0rCqrX",
        "outputId": "b90a3fa4-bb74-47bf-cf48-d75ec6077095"
      },
      "execution_count": 8,
      "outputs": [
        {
          "output_type": "stream",
          "name": "stdout",
          "text": [
            "1 0 0\n"
          ]
        }
      ]
    },
    {
      "cell_type": "markdown",
      "source": [
        "# Variables"
      ],
      "metadata": {
        "id": "mD7TA23HC8hA"
      }
    },
    {
      "cell_type": "markdown",
      "source": [
        "A variable is a name that refers to a value. Assignment statement creates new variables and gives them values"
      ],
      "metadata": {
        "id": "SA98MsvjDZny"
      }
    },
    {
      "cell_type": "code",
      "source": [
        "msg = \"What's up, Doc\"\n",
        "n = 17\n",
        "pi = 3.14159"
      ],
      "metadata": {
        "id": "U0TAzXRKC-47"
      },
      "execution_count": 9,
      "outputs": []
    },
    {
      "cell_type": "markdown",
      "source": [
        "**State Diagram**\n",
        "- Write the name with an arrow pointing to the variable's value. It shows what state each of the variable's is in. This diagram shows the result of the assignment statements.\n",
        "\n",
        "       msg -----> \"What's up, Doc?\"\n",
        "       n ------> 17\n",
        "       pi -------> 3.14159\n"
      ],
      "metadata": {
        "id": "uXLBHwHnEHkA"
      }
    },
    {
      "cell_type": "code",
      "source": [
        "print(msg)\n",
        "print(n)\n",
        "print(pi)"
      ],
      "metadata": {
        "colab": {
          "base_uri": "https://localhost:8080/"
        },
        "id": "F1UZJRM6EJU6",
        "outputId": "c9693041-328a-4824-d0c1-536230dac975"
      },
      "execution_count": 10,
      "outputs": [
        {
          "output_type": "stream",
          "name": "stdout",
          "text": [
            "What's up, Doc\n",
            "17\n",
            "3.14159\n"
          ]
        }
      ]
    },
    {
      "cell_type": "markdown",
      "source": [
        "In each case, the result is the value of the variable."
      ],
      "metadata": {
        "id": "s1lMZQx0FBZI"
      }
    },
    {
      "cell_type": "code",
      "source": [
        "type(msg)"
      ],
      "metadata": {
        "colab": {
          "base_uri": "https://localhost:8080/"
        },
        "id": "qbAOmOPZFIOy",
        "outputId": "b0342d37-b3ef-4cc4-c8b9-6cc1f27d57c4"
      },
      "execution_count": 12,
      "outputs": [
        {
          "output_type": "execute_result",
          "data": {
            "text/plain": [
              "str"
            ]
          },
          "metadata": {},
          "execution_count": 12
        }
      ]
    },
    {
      "cell_type": "code",
      "source": [
        "type(n)"
      ],
      "metadata": {
        "colab": {
          "base_uri": "https://localhost:8080/"
        },
        "id": "OSaBPRXLFPHw",
        "outputId": "099cc8c5-d617-4cbe-8b19-75e875baad55"
      },
      "execution_count": 13,
      "outputs": [
        {
          "output_type": "execute_result",
          "data": {
            "text/plain": [
              "int"
            ]
          },
          "metadata": {},
          "execution_count": 13
        }
      ]
    },
    {
      "cell_type": "code",
      "source": [
        "type(pi)"
      ],
      "metadata": {
        "colab": {
          "base_uri": "https://localhost:8080/"
        },
        "id": "ndPgfd_jFRcp",
        "outputId": "b8806717-985a-4c5f-cc0b-b690b11a2939"
      },
      "execution_count": 14,
      "outputs": [
        {
          "output_type": "execute_result",
          "data": {
            "text/plain": [
              "float"
            ]
          },
          "metadata": {},
          "execution_count": 14
        }
      ]
    },
    {
      "cell_type": "markdown",
      "source": [
        "# Statements"
      ],
      "metadata": {
        "id": "Yx3fheklHFAy"
      }
    },
    {
      "cell_type": "markdown",
      "source": [
        "An instruction that the Pytthon interpreter can execute.\n",
        "Two kinds of statements\n",
        "1. Print\n",
        "2. Assignment\n",
        "\n",
        "When you type a statement on the command line, Python executes it and displays the result. if there is one. The result of the print statement is a value. Assignment statements don't produce a result.\n"
      ],
      "metadata": {
        "id": "4v9Qvmg-HTZp"
      }
    },
    {
      "cell_type": "markdown",
      "source": [
        "Script - sequence of statements\n",
        "\n",
        "If more than one statement, the results appear one at a time as the statements execute."
      ],
      "metadata": {
        "id": "jbXresh8Ivki"
      }
    },
    {
      "cell_type": "code",
      "source": [
        "print(1)\n",
        "x = 2\n",
        "print(x)"
      ],
      "metadata": {
        "colab": {
          "base_uri": "https://localhost:8080/"
        },
        "id": "ZN-qnagEHHJS",
        "outputId": "28118657-5295-46b5-f06f-92c43aceb193"
      },
      "execution_count": 15,
      "outputs": [
        {
          "output_type": "stream",
          "name": "stdout",
          "text": [
            "1\n",
            "2\n"
          ]
        }
      ]
    },
    {
      "cell_type": "markdown",
      "source": [
        "Again, the assignment statement produces no output"
      ],
      "metadata": {
        "id": "JB-ULsyOJFWS"
      }
    },
    {
      "cell_type": "markdown",
      "source": [
        "# Evaluating Expressions"
      ],
      "metadata": {
        "id": "1chbnrOkJLxa"
      }
    },
    {
      "cell_type": "markdown",
      "source": [
        "It is a combination of values, variables and operators"
      ],
      "metadata": {
        "id": "gCTLC1rLJSGS"
      }
    },
    {
      "cell_type": "code",
      "source": [
        "1+1"
      ],
      "metadata": {
        "colab": {
          "base_uri": "https://localhost:8080/"
        },
        "id": "05DJu2xeJPCT",
        "outputId": "936a7931-2467-4350-f8af-d113ac9697a8"
      },
      "execution_count": 16,
      "outputs": [
        {
          "output_type": "execute_result",
          "data": {
            "text/plain": [
              "2"
            ]
          },
          "metadata": {},
          "execution_count": 16
        }
      ]
    },
    {
      "cell_type": "code",
      "source": [
        "17"
      ],
      "metadata": {
        "colab": {
          "base_uri": "https://localhost:8080/"
        },
        "id": "gEWC1I1ZJcEx",
        "outputId": "4ac8aed3-e30b-4e24-f506-db422503c3c1"
      },
      "execution_count": 17,
      "outputs": [
        {
          "output_type": "execute_result",
          "data": {
            "text/plain": [
              "17"
            ]
          },
          "metadata": {},
          "execution_count": 17
        }
      ]
    },
    {
      "cell_type": "code",
      "source": [
        "x"
      ],
      "metadata": {
        "colab": {
          "base_uri": "https://localhost:8080/"
        },
        "id": "D0Hho0QrJdT6",
        "outputId": "6c13068b-9806-4777-f465-91aed6c440ed"
      },
      "execution_count": 18,
      "outputs": [
        {
          "output_type": "execute_result",
          "data": {
            "text/plain": [
              "2"
            ]
          },
          "metadata": {},
          "execution_count": 18
        }
      ]
    },
    {
      "cell_type": "markdown",
      "source": [
        "Evaluating an expression is not same as printing a value\n",
        " - with and without quotation marks"
      ],
      "metadata": {
        "id": "lbKbrxIaJhm5"
      }
    },
    {
      "cell_type": "code",
      "source": [
        "msg = 'Hello, World!'\n",
        "msg        # with quotation marks"
      ],
      "metadata": {
        "colab": {
          "base_uri": "https://localhost:8080/",
          "height": 35
        },
        "id": "NfHMR6DcJeHr",
        "outputId": "689793d3-b501-4b65-ab0d-688e648fd289"
      },
      "execution_count": 20,
      "outputs": [
        {
          "output_type": "execute_result",
          "data": {
            "text/plain": [
              "'Hello, World!'"
            ],
            "application/vnd.google.colaboratory.intrinsic+json": {
              "type": "string"
            }
          },
          "metadata": {},
          "execution_count": 20
        }
      ]
    },
    {
      "cell_type": "code",
      "source": [
        "print(msg)  # prints output without quotation marks"
      ],
      "metadata": {
        "colab": {
          "base_uri": "https://localhost:8080/"
        },
        "id": "JjM1rutnKHWE",
        "outputId": "0bc65354-fbce-4fdf-de1c-bc5310c8a473"
      },
      "execution_count": 21,
      "outputs": [
        {
          "output_type": "stream",
          "name": "stdout",
          "text": [
            "Hello, World!\n"
          ]
        }
      ]
    },
    {
      "cell_type": "markdown",
      "source": [
        "# Operators and Operands"
      ],
      "metadata": {
        "id": "n49WTUTqK6dK"
      }
    },
    {
      "cell_type": "markdown",
      "source": [
        "Operators - special symbols that represent computations like addition and subtraction\n",
        "\n",
        "Operands - values the operator uses"
      ],
      "metadata": {
        "id": "-J-4rMqpLDa6"
      }
    },
    {
      "cell_type": "code",
      "source": [
        "20 + 32"
      ],
      "metadata": {
        "colab": {
          "base_uri": "https://localhost:8080/"
        },
        "id": "FwF8ny-sKyvq",
        "outputId": "a98f476c-7710-4b08-a8a6-fedce3122864"
      },
      "execution_count": 28,
      "outputs": [
        {
          "output_type": "execute_result",
          "data": {
            "text/plain": [
              "52"
            ]
          },
          "metadata": {},
          "execution_count": 28
        }
      ]
    },
    {
      "cell_type": "code",
      "source": [
        "hour = 2\n",
        "hour - 1"
      ],
      "metadata": {
        "colab": {
          "base_uri": "https://localhost:8080/"
        },
        "id": "ItXi4qFqLYT6",
        "outputId": "9443b003-a213-43d0-b4f5-e991ba0e0f59"
      },
      "execution_count": 29,
      "outputs": [
        {
          "output_type": "execute_result",
          "data": {
            "text/plain": [
              "1"
            ]
          },
          "metadata": {},
          "execution_count": 29
        }
      ]
    },
    {
      "cell_type": "code",
      "source": [
        "hour = 2\n",
        "minute = 59\n",
        "hour * 60 + minute"
      ],
      "metadata": {
        "colab": {
          "base_uri": "https://localhost:8080/"
        },
        "id": "QpQXMminLaF6",
        "outputId": "73e8dba6-80bd-4f81-9d50-4c83577e7cc6"
      },
      "execution_count": 35,
      "outputs": [
        {
          "output_type": "execute_result",
          "data": {
            "text/plain": [
              "179"
            ]
          },
          "metadata": {},
          "execution_count": 35
        }
      ]
    },
    {
      "cell_type": "code",
      "source": [
        "minute/60"
      ],
      "metadata": {
        "colab": {
          "base_uri": "https://localhost:8080/"
        },
        "id": "Fn0aU70qLh3y",
        "outputId": "e997cc40-0bc7-4f96-da60-cfe9be58f1d4"
      },
      "execution_count": 36,
      "outputs": [
        {
          "output_type": "execute_result",
          "data": {
            "text/plain": [
              "0.9833333333333333"
            ]
          },
          "metadata": {},
          "execution_count": 36
        }
      ]
    },
    {
      "cell_type": "code",
      "source": [
        "minute*100/60"
      ],
      "metadata": {
        "colab": {
          "base_uri": "https://localhost:8080/"
        },
        "id": "xQGMeaGtMc9V",
        "outputId": "4146c165-b200-47ec-f1dd-5000fefcb2da"
      },
      "execution_count": 37,
      "outputs": [
        {
          "output_type": "execute_result",
          "data": {
            "text/plain": [
              "98.33333333333333"
            ]
          },
          "metadata": {},
          "execution_count": 37
        }
      ]
    },
    {
      "cell_type": "code",
      "source": [
        "5**2"
      ],
      "metadata": {
        "colab": {
          "base_uri": "https://localhost:8080/"
        },
        "id": "ho4glsOmLkqw",
        "outputId": "d758048c-0d23-4213-c1d7-07ddcc0f0ee9"
      },
      "execution_count": 33,
      "outputs": [
        {
          "output_type": "execute_result",
          "data": {
            "text/plain": [
              "25"
            ]
          },
          "metadata": {},
          "execution_count": 33
        }
      ]
    },
    {
      "cell_type": "code",
      "source": [
        "(5+9)*(15-7)"
      ],
      "metadata": {
        "colab": {
          "base_uri": "https://localhost:8080/"
        },
        "id": "TwO4tniCLm4A",
        "outputId": "0a823a65-dfda-4e1d-9e5b-4e0c6d625852"
      },
      "execution_count": 34,
      "outputs": [
        {
          "output_type": "execute_result",
          "data": {
            "text/plain": [
              "112"
            ]
          },
          "metadata": {},
          "execution_count": 34
        }
      ]
    },
    {
      "cell_type": "markdown",
      "source": [
        "# Order of operations"
      ],
      "metadata": {
        "id": "Xhgs-tgLM8Qi"
      }
    },
    {
      "cell_type": "markdown",
      "source": [
        "When more than one operator appears in an expression, the order of evaluation depends on the rules of precedence"
      ],
      "metadata": {
        "id": "PbfXENB8NBEq"
      }
    },
    {
      "cell_type": "markdown",
      "source": [
        "**Parenthesis**"
      ],
      "metadata": {
        "id": "RXZnVLefNeWK"
      }
    },
    {
      "cell_type": "code",
      "source": [
        "2 * (3-1)"
      ],
      "metadata": {
        "colab": {
          "base_uri": "https://localhost:8080/"
        },
        "id": "_DUoW0m2M7SK",
        "outputId": "1c32e71f-c2f1-4eaf-eac6-34703493b755"
      },
      "execution_count": 38,
      "outputs": [
        {
          "output_type": "execute_result",
          "data": {
            "text/plain": [
              "4"
            ]
          },
          "metadata": {},
          "execution_count": 38
        }
      ]
    },
    {
      "cell_type": "code",
      "source": [
        "(1+1)**(5-2)"
      ],
      "metadata": {
        "colab": {
          "base_uri": "https://localhost:8080/"
        },
        "id": "hzw7J0_QNRDL",
        "outputId": "a518e078-7f8f-40c8-da62-1fad4710fe5a"
      },
      "execution_count": 39,
      "outputs": [
        {
          "output_type": "execute_result",
          "data": {
            "text/plain": [
              "8"
            ]
          },
          "metadata": {},
          "execution_count": 39
        }
      ]
    },
    {
      "cell_type": "code",
      "source": [
        "(minute*100) / 60"
      ],
      "metadata": {
        "colab": {
          "base_uri": "https://localhost:8080/"
        },
        "id": "YK8k3SIONWo7",
        "outputId": "cba2d398-cb52-48ab-f0f3-15689e7d3081"
      },
      "execution_count": 40,
      "outputs": [
        {
          "output_type": "execute_result",
          "data": {
            "text/plain": [
              "98.33333333333333"
            ]
          },
          "metadata": {},
          "execution_count": 40
        }
      ]
    },
    {
      "cell_type": "markdown",
      "source": [
        "**Exponentiation**"
      ],
      "metadata": {
        "id": "XAv0t3G7Ndcj"
      }
    },
    {
      "cell_type": "code",
      "source": [
        "2 ** 1 + 1"
      ],
      "metadata": {
        "colab": {
          "base_uri": "https://localhost:8080/"
        },
        "id": "ZAvXwc4LNlGa",
        "outputId": "69edf0f7-fc74-40f6-b4cc-2ffcab0fc3a5"
      },
      "execution_count": 41,
      "outputs": [
        {
          "output_type": "execute_result",
          "data": {
            "text/plain": [
              "3"
            ]
          },
          "metadata": {},
          "execution_count": 41
        }
      ]
    },
    {
      "cell_type": "code",
      "source": [
        "3 * 1 ** 3"
      ],
      "metadata": {
        "colab": {
          "base_uri": "https://localhost:8080/"
        },
        "id": "eJyE3goSNqJj",
        "outputId": "7a95deb4-63ba-41be-8d69-f2e9c13dd10f"
      },
      "execution_count": 42,
      "outputs": [
        {
          "output_type": "execute_result",
          "data": {
            "text/plain": [
              "3"
            ]
          },
          "metadata": {},
          "execution_count": 42
        }
      ]
    },
    {
      "cell_type": "markdown",
      "source": [
        "**Multiplication and Division**"
      ],
      "metadata": {
        "id": "NznuS0N9N54q"
      }
    },
    {
      "cell_type": "code",
      "source": [
        "2 * 3 - 1"
      ],
      "metadata": {
        "colab": {
          "base_uri": "https://localhost:8080/"
        },
        "id": "bFjvwTBNN14i",
        "outputId": "643eb255-8ed2-4179-85a6-29927413a0a5"
      },
      "execution_count": 43,
      "outputs": [
        {
          "output_type": "execute_result",
          "data": {
            "text/plain": [
              "5"
            ]
          },
          "metadata": {},
          "execution_count": 43
        }
      ]
    },
    {
      "cell_type": "code",
      "source": [
        "2/3-1   # integer division 2/3 = 0"
      ],
      "metadata": {
        "colab": {
          "base_uri": "https://localhost:8080/"
        },
        "id": "6Q96mpm-OAlS",
        "outputId": "4f81c763-2208-4ee8-ea44-d842e56ef487"
      },
      "execution_count": 45,
      "outputs": [
        {
          "output_type": "execute_result",
          "data": {
            "text/plain": [
              "-0.33333333333333337"
            ]
          },
          "metadata": {},
          "execution_count": 45
        }
      ]
    },
    {
      "cell_type": "markdown",
      "source": [
        "**Left to Right**"
      ],
      "metadata": {
        "id": "iNQSuLzlORSk"
      }
    },
    {
      "cell_type": "code",
      "source": [
        "minute*100/60"
      ],
      "metadata": {
        "colab": {
          "base_uri": "https://localhost:8080/"
        },
        "id": "sJFjeYaVOV0r",
        "outputId": "0212cf81-a004-4cac-c981-c1bef7eb2d4e"
      },
      "execution_count": 46,
      "outputs": [
        {
          "output_type": "execute_result",
          "data": {
            "text/plain": [
              "98.33333333333333"
            ]
          },
          "metadata": {},
          "execution_count": 46
        }
      ]
    },
    {
      "cell_type": "code",
      "source": [
        "5900/60"
      ],
      "metadata": {
        "colab": {
          "base_uri": "https://localhost:8080/"
        },
        "id": "60yRcgXHOkVb",
        "outputId": "4c28b3d9-fb85-4e46-b350-fa056803d200"
      },
      "execution_count": 47,
      "outputs": [
        {
          "output_type": "execute_result",
          "data": {
            "text/plain": [
              "98.33333333333333"
            ]
          },
          "metadata": {},
          "execution_count": 47
        }
      ]
    },
    {
      "cell_type": "markdown",
      "source": [
        "**Right to Left**"
      ],
      "metadata": {
        "id": "I0rFz_nMOntz"
      }
    },
    {
      "cell_type": "code",
      "source": [
        "59 * 1  # 59*1 which is wrong"
      ],
      "metadata": {
        "colab": {
          "base_uri": "https://localhost:8080/"
        },
        "id": "NbYz-LSFOqsU",
        "outputId": "7404b906-1846-4f89-a406-75049f019e60"
      },
      "execution_count": 48,
      "outputs": [
        {
          "output_type": "execute_result",
          "data": {
            "text/plain": [
              "59"
            ]
          },
          "metadata": {},
          "execution_count": 48
        }
      ]
    },
    {
      "cell_type": "markdown",
      "source": [
        "**Operations on Strings**"
      ],
      "metadata": {
        "id": "-gnJhiA6PDRE"
      }
    },
    {
      "cell_type": "markdown",
      "source": [
        "Initially, cannot perform mathematical operations on strings"
      ],
      "metadata": {
        "id": "0JNQ0WrhPRkT"
      }
    },
    {
      "cell_type": "markdown",
      "source": [
        "**Concatenation**  - '+' operator, joining twom operands by linking them end-to-end"
      ],
      "metadata": {
        "id": "XkNOHi_rPiUu"
      }
    },
    {
      "cell_type": "code",
      "source": [
        "fruit = 'banana'\n",
        "bakedGood = ' nut bread'  # space before nut is part of the string and is necessary to produce the space between concatenated strings\n",
        "print(fruit + bakedGood)"
      ],
      "metadata": {
        "colab": {
          "base_uri": "https://localhost:8080/"
        },
        "id": "jevNoU_4PHsV",
        "outputId": "219fab12-e61a-4742-e9a1-e56ade0eeb43"
      },
      "execution_count": 50,
      "outputs": [
        {
          "output_type": "stream",
          "name": "stdout",
          "text": [
            "banana nut bread\n"
          ]
        }
      ]
    },
    {
      "cell_type": "markdown",
      "source": [
        "  '*'  - operator works on strings; it performs repetition.\n",
        "\n",
        "  One has to be string and other has to be integer"
      ],
      "metadata": {
        "id": "umaVhZmQRKPM"
      }
    },
    {
      "cell_type": "code",
      "source": [
        "'Fun'*3"
      ],
      "metadata": {
        "colab": {
          "base_uri": "https://localhost:8080/",
          "height": 35
        },
        "id": "-JTdStjdR0Ct",
        "outputId": "06db0063-d23e-4a3b-8473-a0ef0b4de20e"
      },
      "execution_count": 51,
      "outputs": [
        {
          "output_type": "execute_result",
          "data": {
            "text/plain": [
              "'FunFunFun'"
            ],
            "application/vnd.google.colaboratory.intrinsic+json": {
              "type": "string"
            }
          },
          "metadata": {},
          "execution_count": 51
        }
      ]
    },
    {
      "cell_type": "markdown",
      "source": [
        "**Composition**  - ability to take small building blocks and compose them."
      ],
      "metadata": {
        "id": "j3kmpiU_UG6c"
      }
    },
    {
      "cell_type": "code",
      "source": [
        "print(17 + 3)"
      ],
      "metadata": {
        "colab": {
          "base_uri": "https://localhost:8080/"
        },
        "id": "p-PXWYFUURRM",
        "outputId": "cae14157-c37c-4c31-d5af-faa7c0d6ddaf"
      },
      "execution_count": 55,
      "outputs": [
        {
          "output_type": "stream",
          "name": "stdout",
          "text": [
            "20\n"
          ]
        }
      ]
    },
    {
      "cell_type": "code",
      "source": [
        "hour = 2\n",
        "minute = 59\n",
        "print('Number of minutes since midnight:', hour * 60 + minute)"
      ],
      "metadata": {
        "colab": {
          "base_uri": "https://localhost:8080/"
        },
        "id": "rn8lwMwnUW0E",
        "outputId": "44919bdc-c515-4670-ad78-f77a2093c8ea"
      },
      "execution_count": 60,
      "outputs": [
        {
          "output_type": "stream",
          "name": "stdout",
          "text": [
            "Number of minutes since midnight: 179\n"
          ]
        }
      ]
    },
    {
      "cell_type": "code",
      "source": [
        "minute = 59\n",
        "percentage = (minute * 100) / 60\n",
        "print(percentage)"
      ],
      "metadata": {
        "colab": {
          "base_uri": "https://localhost:8080/"
        },
        "id": "zSENxTq8UjY1",
        "outputId": "f0fa228d-313a-4b6d-e727-92be0a983dd5"
      },
      "execution_count": 59,
      "outputs": [
        {
          "output_type": "stream",
          "name": "stdout",
          "text": [
            "98.33333333333333\n"
          ]
        }
      ]
    },
    {
      "cell_type": "markdown",
      "source": [
        "**Comments**"
      ],
      "metadata": {
        "id": "bd5A2SI5TRa1"
      }
    },
    {
      "cell_type": "code",
      "source": [
        "# compute the percentage of the hour thathas elapsed\n",
        "percentage = (minute * 100) / 60"
      ],
      "metadata": {
        "id": "FpNU6lQCTTiN"
      },
      "execution_count": 61,
      "outputs": []
    },
    {
      "cell_type": "code",
      "source": [
        "percentage = (minute * 100) / 60  # caution: integer division"
      ],
      "metadata": {
        "id": "XHMZpbt6TfG8"
      },
      "execution_count": 62,
      "outputs": []
    },
    {
      "cell_type": "markdown",
      "source": [
        "The integer division operator is like a comment that says, \" I know this is integer division, and I like it that way!\""
      ],
      "metadata": {
        "id": "IN0c8zdyTwAk"
      }
    },
    {
      "cell_type": "code",
      "source": [
        "percentage = (minute * 100) // 60"
      ],
      "metadata": {
        "id": "VkMdaXe5TlqV"
      },
      "execution_count": 63,
      "outputs": []
    }
  ]
}